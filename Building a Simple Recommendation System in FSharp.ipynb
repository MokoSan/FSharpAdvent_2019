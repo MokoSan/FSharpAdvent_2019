{
 "cells": [
  {
   "cell_type": "markdown",
   "metadata": {},
   "source": [
    "# Building a Simple Recommendation System in FSharp"
   ]
  },
  {
   "cell_type": "markdown",
   "metadata": {},
   "source": [
    "## Install Nuget Packages"
   ]
  },
  {
   "cell_type": "code",
   "execution_count": 3,
   "metadata": {},
   "outputs": [],
   "source": [
    "//#r \"nuget:Microsoft.ML\"\n",
    "//#r \"nuget:MathNet.Numerics\"\n",
    "//#r \"nuget:MathNet.Numerics.FSharp\"\n",
    "//#r \"nuget:FSharp.Data\"\n",
    "//#r \"nuget:Deedle\"\n",
    "\n",
    "#load \"Paket.fsx\"\n",
    "Paket.Package [ \"FSharp.Data\"; \"FsLab\" ]\n",
    "#load \"Paket.Generated.Refs.fsx\""
   ]
  },
  {
   "cell_type": "markdown",
   "metadata": {},
   "source": [
    "## Import Packages"
   ]
  },
  {
   "cell_type": "code",
   "execution_count": 4,
   "metadata": {},
   "outputs": [],
   "source": [
    "// Imports\n",
    "open System\n",
    "open FSharp.Data\n",
    "open MathNet.Numerics\n",
    "open System.Collections.Generic\n",
    "open Microsoft.FSharp.Collections\n",
    "open System.Text"
   ]
  },
  {
   "cell_type": "markdown",
   "metadata": {},
   "source": [
    "## Cosine Distance"
   ]
  },
  {
   "cell_type": "code",
   "execution_count": 5,
   "metadata": {},
   "outputs": [
    {
     "data": {
      "text/plain": [
       "0.4"
      ]
     },
     "execution_count": 5,
     "metadata": {},
     "output_type": "execute_result"
    }
   ],
   "source": [
    "let x : double[] = [| 1.; 3. |]\n",
    "let y : double[] = [| 3.; 1. |]\n",
    "\n",
    "Distance.Cosine(x, y)"
   ]
  },
  {
   "cell_type": "markdown",
   "metadata": {},
   "source": [
    "## Domain"
   ]
  },
  {
   "cell_type": "code",
   "execution_count": 27,
   "metadata": {},
   "outputs": [],
   "source": [
    "type MovieData = { title    : string; \n",
    "                   genres   : string list; \n",
    "                   keywords : string list; \n",
    "                   overview : string list;\n",
    "                   soupList : string list }\n",
    "                          \n",
    "type MovieCompareData = { title    : string; \n",
    "                          soup     : string; \n",
    "                          original : MovieData }"
   ]
  },
  {
   "cell_type": "markdown",
   "metadata": {},
   "source": [
    "## Word Soup Ingredients"
   ]
  },
  {
   "cell_type": "code",
   "execution_count": 7,
   "metadata": {},
   "outputs": [],
   "source": [
    "let tokenizeAndClean (words : string) : string list =\n",
    "    // Tokenize\n",
    "    let split = words.Split(' ')\n",
    "    \n",
    "    // Lowercase\n",
    "    let lowered = \n",
    "        split\n",
    "        |> Array.map(fun s -> s.ToLower())\n",
    "    \n",
    "    // Remove Common Stop Words that don't add meaning.\n",
    "    let commonStopWords = \n",
    "        Set.ofList [\"ourselves\"; \"hers\"; \"between\"; \"yourself\"; \"but\"; \"again\"; \"there\"; \"about\"; \"once\"; \"during\"; \"out\"; \"very\"; \"having\"; \"with\"; \"they\"; \"own\"; \"an\"; \"be\"; \"some\"; \"for\"; \"do\"; \"its\"; \"yours\"; \"such\"; \"into\"; \"of\"; \"most\"; \"itself\"; \"other\"; \"off\"; \"is\"; \"s\"; \"am\"; \"or\"; \"who\"; \"as\"; \"from\"; \"him\"; \"each\"; \"the\"; \"themselves\"; \"until\"; \"below\"; \"are\"; \"we\"; \"these\"; \"your\"; \"his\"; \"through\"; \"don\"; \"nor\"; \"me\"; \"were\"; \"her\"; \"more\"; \"himself\"; \"this\"; \"down\"; \"should\"; \"our\"; \"their\"; \"while\"; \"above\"; \"both\"; \"up\"; \"to\"; \"ours\"; \"had\"; \"she\"; \"all\"; \"no\"; \"when\"; \"at\"; \"any\"; \"before\"; \"them\"; \"same\"; \"and\"; \"been\"; \"have\"; \"in\"; \"will\"; \"on\"; \"does\"; \"yourselves\"; \"then\"; \"that\"; \"because\"; \"what\"; \"over\"; \"why\"; \"so\"; \"can\"; \"did\"; \"not\"; \"now\"; \"under\"; \"he\"; \"you\"; \"herself\"; \"has\"; \"just\"; \"where\"; \"too\"; \"only\"; \"myself\"; \"which\"; \"those\"; \"i\"; \"after\"; \"few\"; \"whom\"; \"t\"; \"being\"; \"if\"; \"theirs\"; \"my\"; \"against\"; \"a\"; \"by\"; \"doing\"; \"it\"; \"how\"; \"further\"; \"was\"; \"here\"; \"than\"]\n",
    "    let notStopWords =\n",
    "        lowered\n",
    "        |> Array.filter(fun s -> not (Set.contains s commonStopWords))\n",
    "\n",
    "    let nonPunctation =  \n",
    "        notStopWords\n",
    "        |> Array.map(fun x -> x.Replace(\"�\", \"\")\n",
    "                               .Replace(\"'\", \"\")\n",
    "                               .Replace(\":\", \"\")\n",
    "                               .Replace(\".\", \"\")\n",
    "                               .Replace(\",\", \"\")\n",
    "                               .Replace(\"-\", \"\")\n",
    "                               .Replace(\"!\", \"\")\n",
    "                               .Replace(\"?\", \"\")\n",
    "                               .Replace(\"\\\"\", \"\")\n",
    "                               .Replace(\";\", \"\"))\n",
    "    \n",
    "    // Lexicographically sort\n",
    "    let sorted = Array.sort nonPunctation\n",
    "    \n",
    "    // Concatenate the joined data\n",
    "    sorted\n",
    "    |> Array.toList\n",
    " \n",
    "// Gets the Frequency table.\n",
    "let countWords = Seq.countBy id\n",
    "\n",
    "// Gets the freauencies per word.\n",
    "let getFrequencies (tokenizedSample: string list) =  \n",
    "    (countWords tokenizedSample)\n",
    "    |> Seq.map (fun (a,b) -> b)\n",
    "    \n",
    "// Gets the words in the frequency table.s\n",
    "let getWords (tokenizedSample: string list) =  \n",
    "    (countWords tokenizedSample)\n",
    "    |> Seq.map (fun (a,b) -> a)"
   ]
  },
  {
   "cell_type": "code",
   "execution_count": 8,
   "metadata": {},
   "outputs": [
    {
     "data": {
      "text/plain": [
       "[\"brown\"; \"dog\"; \"fox\"; \"jumps\"; \"lazy\"; \"quick\"; \"the\"]"
      ]
     },
     "execution_count": 8,
     "metadata": {},
     "output_type": "execute_result"
    }
   ],
   "source": [
    "let sample = \"The quick brown. fox jumps! over the; Lazy dog\" \n",
    "let tokenizedSample = tokenizeAndClean sample\n",
    "tokenizedSample"
   ]
  },
  {
   "cell_type": "markdown",
   "metadata": {},
   "source": [
    "## Sanitization Functions"
   ]
  },
  {
   "cell_type": "code",
   "execution_count": 9,
   "metadata": {},
   "outputs": [],
   "source": [
    "// Grab Genre\n",
    "[<Literal>]\n",
    "let SampleGenresJson = \"[{\\\"id\\\": 28, \\\"name\\\": \\\"Action\\\"}, {\\\"id\\\": 12, \\\"name\\\": \\\"Adventure\\\"}, {\\\"id\\\": 80, \\\"name\\\": \\\"Crime\\\"}]\"\n",
    "\n",
    "type GenreProvider = JsonProvider< SampleGenresJson >\n",
    "\n",
    "let sanitizeGenre (genres : string) : string list = \n",
    "    let parsed = GenreProvider.Parse(genres)\n",
    "    parsed\n",
    "    |> Array.map( fun x -> x.Name.Replace(\" \", \"\")) \n",
    "    |> String.concat \" \"\n",
    "    |> tokenizeAndClean\n",
    "\n",
    "// Grab Keywords\n",
    "[<Literal>]\n",
    "let SampleKeywordsJson = \"[{\\\"id\\\": 1463, \\\"name\\\": \\\"culture clash\\\"}, {\\\"id\\\": 2964, \\\"name\\\": \\\"future\\\"}, {\\\"id\\\": 3386, \\\"name\\\": \\\"space war\\\"}]\"\n",
    "\n",
    "type KeywordsProvider = JsonProvider< SampleKeywordsJson >\n",
    "\n",
    "let sanitizeKeywords (keywords : string) : string list = \n",
    "    let parsed = KeywordsProvider.Parse(keywords)\n",
    "    parsed\n",
    "    |> Array.map( fun x -> x.Name.Replace(\" \", \"\"))\n",
    "    |> String.concat \" \"\n",
    "    |> tokenizeAndClean\n",
    "\n",
    "// Grab Overview\n",
    "let sanitizeOverview (overview : string) : string list = \n",
    "    let nonAsciiRemoved = Encoding.ASCII.GetString(Encoding.ASCII.GetBytes(overview))\n",
    "    tokenizeAndClean nonAsciiRemoved\n",
    "    |> List.filter( fun x -> x <> String.Empty )"
   ]
  },
  {
   "cell_type": "markdown",
   "metadata": {},
   "source": [
    "## Load Data"
   ]
  },
  {
   "cell_type": "code",
   "execution_count": 29,
   "metadata": {},
   "outputs": [
    {
     "data": {
      "text/plain": [
       "seq\n",
       "  [{title = \"Avatar\";\n",
       "    soup =\n",
       "     \"action adventure fantasy sciencefiction 3d alien alienplanet antiwar battle cgi cultureclash future futuristic loveaffair marine mindandsoul powerrelations romance society soldier space spacecolony spacetravel spacewar tribe 22nd alien becomes century civilization dispatched following marine mission moon orders pandora paraplegic protecting torn unique\";\n",
       "    original =\n",
       "     {title = \"Avatar\";\n",
       "      genres = [\"action\"; \"adventure\"; \"fantasy\"; \"sciencefiction\"];\n",
       "      keywords =\n",
       "       [\"3d\"; \"alien\"; \"alienplanet\"; \"antiwar\"; \"battle\"; \"cgi\"; \"cultureclash\";\n",
       "        \"future\"; \"futuristic\"; \"loveaffair\"; \"marine\"; \"mindandsoul\";\n",
       "        \"powerrelations\"; \"romance\"; \"society\"; \"soldier\"; \"space\";\n",
       "        \"spacecolony\"; \"spacetravel\"; \"spacewar\"; \"tribe\"];\n",
       "      overview =\n",
       "       [\"22nd\"; \"alien\"; \"becomes\"; \"century\"; \"civilization\"; \"dispatched\";\n",
       "        \"following\"; \"marine\"; \"mission\"; \"moon\"; \"orders\"; \"pandora\";\n",
       "        \"paraplegic\"; \"protecting\"; \"torn\"; \"unique\"];\n",
       "      soupList =\n",
       "       [\"action\"; \"adventure\"; \"fantasy\"; \"sciencefiction\"; \"3d\"; \"alien\";\n",
       "        \"alienplanet\"; \"antiwar\"; \"battle\"; \"cgi\"; \"cultureclash\"; \"future\";\n",
       "        \"futuristic\"; \"loveaffair\"; \"marine\"; \"mindandsoul\"; \"powerrelations\";\n",
       "        \"romance\"; \"society\"; \"soldier\"; \"space\"; \"spacecolony\"; \"spacetravel\";\n",
       "        \"spacewar\"; \"tribe\"; \"22nd\"; \"alien\"; \"becomes\"; \"century\";\n",
       "        \"civilization\"; \"dispatched\"; \"following\"; \"marine\"; \"mission\"; \"moon\";\n",
       "        \"orders\"; \"pandora\"; \"paraplegic\"; \"protecting\"; \"torn\"; \"unique\"];};}]"
      ]
     },
     "execution_count": 29,
     "metadata": {},
     "output_type": "execute_result"
    }
   ],
   "source": [
    "let extractData =\n",
    "    let data = CsvFile.Load( \"../../Desktop/F#/FSharp-Advent-2019/data/tmdb_5000_movies.csv\").Cache()\n",
    "    let mutable output = []\n",
    "    for row in data.Rows do\n",
    "        let title    = (row.GetColumn \"title\")\n",
    "        \n",
    "        // Genres\n",
    "        let genres        = sanitizeGenre (row.GetColumn \"genres\")\n",
    "        let getSoupGenres = genres |> String.concat \" \"\n",
    "        \n",
    "        // Keywords\n",
    "        let keywords       = sanitizeKeywords (row.GetColumn \"keywords\")\n",
    "        let getSoupKeyword = keywords |> String.concat \" \"\n",
    "        \n",
    "        // Overview\n",
    "        let overview        = sanitizeOverview (row.GetColumn \"overview\")\n",
    "        let getSoupOverview = overview |> String.concat \" \"\n",
    "        \n",
    "        // Soup\n",
    "        let soup     = getSoupGenres + \" \" + getSoupKeyword + \" \" + getSoupOverview\n",
    "        let soupList = genres @ keywords @ overview\n",
    "        \n",
    "        // Construct data types\n",
    "        let movieData = { title = title; \n",
    "                          genres = genres; \n",
    "                          keywords = keywords; \n",
    "                          overview = overview;\n",
    "                          soupList = soupList }\n",
    "                          \n",
    "        let movieCompareData = { title    = title; \n",
    "                                 soup     = soup; \n",
    "                                 original = movieData }\n",
    "        \n",
    "        // Append the output\n",
    "        output <- output @ [movieCompareData]\n",
    "        \n",
    "    output\n",
    "    |> Seq.ofList\n",
    "        \n",
    "extractData\n",
    "|> Seq.take 1"
   ]
  },
  {
   "cell_type": "markdown",
   "metadata": {},
   "source": [
    "### Word Frequency Table Helpers"
   ]
  },
  {
   "cell_type": "code",
   "execution_count": 58,
   "metadata": {},
   "outputs": [
    {
     "data": {
      "text/plain": [
       "seq [\"action\"; \"adventure\"; \"fantasy\"; \"sciencefiction\"; ...]\n",
       "seq\n",
       "  [[(true, 1); (false, 40)]; [(false, 40); (true, 1)]; [(false, 40); (true, 1)];\n",
       "   [(false, 40); (true, 1)]; ...]\n"
      ]
     },
     "metadata": {},
     "output_type": "display_data"
    }
   ],
   "source": [
    "let getAllWords = \n",
    "    extractData\n",
    "    |> Seq.map(fun x -> x.original.soupList)\n",
    "    |> Seq.concat \n",
    "    |> Seq.distinct\n",
    "\n",
    "let getWordCountForSoup (movieCompare : MovieCompareData) = \n",
    "\n",
    "    // I feel like using a _mutable_ dictionary here.. \n",
    "    let words = getAllWords\n",
    "    let counts = \n",
    "        getWords\n",
    "    printfn \"%A\" words\n",
    "    printfn \"%A\" counts\n",
    " \n",
    "let first = \n",
    "    extractData\n",
    "    |> Seq.take 1\n",
    "    |> Seq.item 0\n",
    "    \n",
    "getWordCountForSoup first"
   ]
  }
 ],
 "metadata": {
  "kernelspec": {
   "display_name": "F#",
   "language": "fsharp",
   "name": "ifsharp"
  },
  "language": "fsharp",
  "language_info": {
   "codemirror_mode": "",
   "file_extension": ".fs",
   "mimetype": "text/x-fsharp",
   "name": "fsharp",
   "nbconvert_exporter": "",
   "pygments_lexer": "",
   "version": "4.3.1.0"
  }
 },
 "nbformat": 4,
 "nbformat_minor": 2
}
