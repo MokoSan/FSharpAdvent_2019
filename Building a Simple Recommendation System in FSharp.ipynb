{
 "cells": [
  {
   "attachments": {},
   "cell_type": "markdown",
   "metadata": {},
   "source": [
    "# Building a Simple Recommendation System in FSharp\n",
    "\n",
    "![image.png](./pics/Title.png)\n",
    "\n",
    "## Introduction \n",
    "\n",
    "This year, I decided to work on a Simple Recommender for TMDB data that can be found [here](https://www.kaggle.com/tmdb/tmdb-movie-metadata). I'd like to keep this article as simple as possible with the least amount of dependencies and ceremony. Recommendations are given on the basis of the metadata of the movie inputted based on the genres, keywords, overview, production studio and popularity score. \n",
    "\n",
    "This notebook is written via .NET Jupyter Notebooks whose instructions to get started can be found [here](https://github.com/dotnet/try/blob/master/NotebooksLocalExperience.md). The impetus behind writing this post was to help me and others better understand the internals of a very simple Recommendation System but also to exemplify the now improving strength of the .NET ecosystem to conduct experiments by the means of a Jupyter Notebook.\n",
    "\n",
    "The first step involves installing all the pertinent nuget packages, which can be done in the following manner in addition to importing the relevant paths and setting the path to the csv containing all the data appropriately."
   ]
  },
  {
   "cell_type": "code",
   "execution_count": 37,
   "metadata": {},
   "outputs": [],
   "source": [
    "#r \"nuget:MathNet.Numerics\"\n",
    "#r \"nuget:MathNet.Numerics.FSharp\"\n",
    "#r \"nuget:FSharp.Data\"\n",
    "\n",
    "// Uncomment for the IFSharp Kernel\n",
    "// #load \"Paket.fsx\"\n",
    "// Paket.Package [ \"FSharp.Data\"; ]\n",
    "// #load \"Paket.Generated.Refs.fsx\"\n",
    "    \n",
    "open System\n",
    "open System.Text\n",
    "open FSharp.Data\n",
    "open MathNet.Numerics\n",
    "open System.Collections.Generic\n",
    "open Microsoft.FSharp.Collections\n",
    "\n",
    "[<Literal>]\n",
    "// Data obtained from: https://www.kaggle.com/tmdb/tmdb-movie-metadata\n",
    "let DataPath = \"/Users/mukundraghavsharma/Desktop/F#/FSharp-Advent-2019/data/tmdb_5000_movies.csv\""
   ]
  },
  {
   "cell_type": "markdown",
   "metadata": {},
   "source": [
    "## Data Processing\n",
    "\n",
    "Next step is to conduct a perfunctory data exploration to view the \"shape\" of the columns we decide to make use of. Alternatively, I could have used [`Deedle`](https://bluemountaincapital.github.io/Deedle/) for this task.\n",
    "\n",
    "### Data Exploration"
   ]
  },
  {
   "cell_type": "code",
   "execution_count": 12,
   "metadata": {},
   "outputs": [
    {
     "data": {
      "text/html": [
       "<table><thead><tr><th>Value</th></tr></thead><tbody><tr><td>[ budget, genres, homepage, id, keywords, original_language, original_title, overview, popularity, production_companies ... (10 more) ]</td></tr></tbody></table>"
      ]
     },
     "execution_count": 12,
     "metadata": {},
     "output_type": "execute_result"
    }
   ],
   "source": [
    "let data = CsvFile.Load(DataPath).Cache()\n",
    "data.Headers"
   ]
  },
  {
   "cell_type": "markdown",
   "metadata": {},
   "source": [
    "Based on the headers, we will consider 2 features:\n",
    "1. __Word Soup__: Consisting of sanitized words based on the genres, keywords, production companies and overview.\n",
    "    - Similar movies would have similar genres, keywords, production companies and words in the overview and therefore could lead to good recommendations.\n",
    "2. __Popularity__: A popularity score from TMDB."
   ]
  },
  {
   "cell_type": "code",
   "execution_count": 13,
   "metadata": {},
   "outputs": [],
   "source": [
    "let getFirstItemInColumn (colName : string) = \n",
    "    seq { for row in data.Rows -> row.GetColumn colName }\n",
    "    |> Seq.head"
   ]
  },
  {
   "cell_type": "markdown",
   "metadata": {},
   "source": [
    "#### Genres"
   ]
  },
  {
   "cell_type": "code",
   "execution_count": 14,
   "metadata": {},
   "outputs": [
    {
     "data": {
      "text/plain": [
       "[{\"id\": 28, \"name\": \"Action\"}, {\"id\": 12, \"name\": \"Adventure\"}, {\"id\": 14, \"name\": \"Fantasy\"}, {\"id\": 878, \"name\": \"Science Fiction\"}]"
      ]
     },
     "execution_count": 14,
     "metadata": {},
     "output_type": "execute_result"
    }
   ],
   "source": [
    "getFirstItemInColumn \"genres\""
   ]
  },
  {
   "cell_type": "markdown",
   "metadata": {},
   "source": [
    "#### Keywords"
   ]
  },
  {
   "cell_type": "code",
   "execution_count": 15,
   "metadata": {},
   "outputs": [
    {
     "data": {
      "text/plain": [
       "[{\"id\": 1463, \"name\": \"culture clash\"}, {\"id\": 2964, \"name\": \"future\"}, {\"id\": 3386, \"name\": \"space war\"}, {\"id\": 3388, \"name\": \"space colony\"}, {\"id\": 3679, \"name\": \"society\"}, {\"id\": 3801, \"name\": \"space travel\"}, {\"id\": 9685, \"name\": \"futuristic\"}, {\"id\": 9840, \"name\": \"romance\"}, {\"id\": 9882, \"name\": \"space\"}, {\"id\": 9951, \"name\": \"alien\"}, {\"id\": 10148, \"name\": \"tribe\"}, {\"id\": 10158, \"name\": \"alien planet\"}, {\"id\": 10987, \"name\": \"cgi\"}, {\"id\": 11399, \"name\": \"marine\"}, {\"id\": 13065, \"name\": \"soldier\"}, {\"id\": 14643, \"name\": \"battle\"}, {\"id\": 14720, \"name\": \"love affair\"}, {\"id\": 165431, \"name\": \"anti war\"}, {\"id\": 193554, \"name\": \"power relations\"}, {\"id\": 206690, \"name\": \"mind and soul\"}, {\"id\": 209714, \"name\": \"3d\"}]"
      ]
     },
     "execution_count": 15,
     "metadata": {},
     "output_type": "execute_result"
    }
   ],
   "source": [
    "getFirstItemInColumn \"keywords\""
   ]
  },
  {
   "cell_type": "markdown",
   "metadata": {},
   "source": [
    "#### Overview"
   ]
  },
  {
   "cell_type": "code",
   "execution_count": 16,
   "metadata": {},
   "outputs": [
    {
     "data": {
      "text/plain": [
       "In the 22nd century, a paraplegic Marine is dispatched to the moon Pandora on a unique mission, but becomes torn between following orders and protecting an alien civilization."
      ]
     },
     "execution_count": 16,
     "metadata": {},
     "output_type": "execute_result"
    }
   ],
   "source": [
    "getFirstItemInColumn \"overview\""
   ]
  },
  {
   "cell_type": "markdown",
   "metadata": {},
   "source": [
    "#### Production Company"
   ]
  },
  {
   "cell_type": "code",
   "execution_count": 17,
   "metadata": {},
   "outputs": [
    {
     "data": {
      "text/plain": [
       "[{\"name\": \"Ingenious Film Partners\", \"id\": 289}, {\"name\": \"Twentieth Century Fox Film Corporation\", \"id\": 306}, {\"name\": \"Dune Entertainment\", \"id\": 444}, {\"name\": \"Lightstorm Entertainment\", \"id\": 574}]"
      ]
     },
     "execution_count": 17,
     "metadata": {},
     "output_type": "execute_result"
    }
   ],
   "source": [
    "getFirstItemInColumn \"production_companies\""
   ]
  },
  {
   "cell_type": "markdown",
   "metadata": {},
   "source": [
    "#### Popularity"
   ]
  },
  {
   "cell_type": "code",
   "execution_count": 18,
   "metadata": {},
   "outputs": [
    {
     "data": {
      "text/plain": [
       "150.437577"
      ]
     },
     "execution_count": 18,
     "metadata": {},
     "output_type": "execute_result"
    }
   ],
   "source": [
    "getFirstItemInColumn \"popularity\""
   ]
  },
  {
   "cell_type": "markdown",
   "metadata": {},
   "source": [
    "Based on the samples of the columns considered, it seems like we'll need to sanitize the data extensively. Before we do so, let's define the domain objects we will be dealing with."
   ]
  },
  {
   "cell_type": "markdown",
   "metadata": {},
   "source": [
    "## Domain"
   ]
  },
  {
   "cell_type": "code",
   "execution_count": 19,
   "metadata": {},
   "outputs": [],
   "source": [
    "type MovieCompareData = { title      : string; \n",
    "                          soup       : string;\n",
    "                          soupList   : string list;\n",
    "                          popularity : double; }"
   ]
  },
  {
   "cell_type": "markdown",
   "metadata": {},
   "source": [
    "### Tokenization "
   ]
  },
  {
   "cell_type": "code",
   "execution_count": 20,
   "metadata": {},
   "outputs": [],
   "source": [
    "let tokenizeAndClean (words : string) : string list =\n",
    "    // Tokenize\n",
    "    let split = words.Split(' ')\n",
    "    \n",
    "    // Lowercase\n",
    "    let lowered = \n",
    "        split\n",
    "        |> Array.map(fun s -> s.ToLower())\n",
    "    \n",
    "    // Remove Common Stop Words that don't add meaning\n",
    "    let commonStopWords = \n",
    "        Set.ofList [\"ourselves\"; \"hers\"; \"between\"; \"yourself\"; \"but\"; \"again\"; \"there\"; \"about\"; \"once\"; \"during\"; \"out\"; \"very\"; \"having\"; \"with\"; \"they\"; \"own\"; \"an\"; \"be\"; \"some\"; \"for\"; \"do\"; \"its\"; \"yours\"; \"such\"; \"into\"; \"of\"; \"most\"; \"itself\"; \"other\"; \"off\"; \"is\"; \"s\"; \"am\"; \"or\"; \"who\"; \"as\"; \"from\"; \"him\"; \"each\"; \"the\"; \"themselves\"; \"until\"; \"below\"; \"are\"; \"we\"; \"these\"; \"your\"; \"his\"; \"through\"; \"don\"; \"nor\"; \"me\"; \"were\"; \"her\"; \"more\"; \"himself\"; \"this\"; \"down\"; \"should\"; \"our\"; \"their\"; \"while\"; \"above\"; \"both\"; \"up\"; \"to\"; \"ours\"; \"had\"; \"she\"; \"all\"; \"no\"; \"when\"; \"at\"; \"any\"; \"before\"; \"them\"; \"same\"; \"and\"; \"been\"; \"have\"; \"in\"; \"will\"; \"on\"; \"does\"; \"yourselves\"; \"then\"; \"that\"; \"because\"; \"what\"; \"over\"; \"why\"; \"so\"; \"can\"; \"did\"; \"not\"; \"now\"; \"under\"; \"he\"; \"you\"; \"herself\"; \"has\"; \"just\"; \"where\"; \"too\"; \"only\"; \"myself\"; \"which\"; \"those\"; \"i\"; \"after\"; \"few\"; \"whom\"; \"t\"; \"being\"; \"if\"; \"theirs\"; \"my\"; \"against\"; \"a\"; \"by\"; \"doing\"; \"it\"; \"how\"; \"further\"; \"was\"; \"here\"; \"than\"]\n",
    "    let notStopWords =\n",
    "        lowered\n",
    "        |> Array.filter(fun s -> not (Set.contains s commonStopWords))\n",
    "\n",
    "    // Remove Punctuation\n",
    "    let nonPunctation =  \n",
    "        notStopWords\n",
    "        |> Array.map(fun x -> x.Replace(\"�\", \"\")\n",
    "                               .Replace(\"'\", \"\")\n",
    "                               .Replace(\":\", \"\")\n",
    "                               .Replace(\".\", \"\")\n",
    "                               .Replace(\",\", \"\")\n",
    "                               .Replace(\"-\", \"\")\n",
    "                               .Replace(\"!\", \"\")\n",
    "                               .Replace(\"?\", \"\")\n",
    "                               .Replace(\"\\\"\", \"\")\n",
    "                               .Replace(\";\", \"\"))\n",
    "    \n",
    "    // Lexicographically sort\n",
    "    let sorted = Array.sort nonPunctation\n",
    "    \n",
    "    // Concatenate the joined data\n",
    "    sorted\n",
    "    |> Array.toList"
   ]
  },
  {
   "cell_type": "code",
   "execution_count": 21,
   "metadata": {},
   "outputs": [
    {
     "data": {
      "text/html": [
       "<table><thead><tr><th><i>index</i></th><th>value</th></tr></thead><tbody><tr><td>0</td><td>brown</td></tr><tr><td>1</td><td>dog</td></tr><tr><td>2</td><td>fox</td></tr><tr><td>3</td><td>jumps</td></tr><tr><td>4</td><td>lazy</td></tr><tr><td>5</td><td>quick</td></tr><tr><td>6</td><td>the</td></tr></tbody></table>"
      ]
     },
     "execution_count": 21,
     "metadata": {},
     "output_type": "execute_result"
    }
   ],
   "source": [
    "let sample = \"The quick brown. fox jumps! over the; Lazy dog\" \n",
    "let tokenizedSample = tokenizeAndClean sample\n",
    "tokenizedSample"
   ]
  },
  {
   "cell_type": "markdown",
   "metadata": {},
   "source": [
    "### Sanitization Functions"
   ]
  },
  {
   "cell_type": "code",
   "execution_count": 22,
   "metadata": {},
   "outputs": [],
   "source": [
    "// Genre\n",
    "[<Literal>]\n",
    "let SampleGenresJson = \"[{\\\"id\\\": 28, \\\"name\\\": \\\"Action\\\"}, {\\\"id\\\": 12, \\\"name\\\": \\\"Adventure\\\"}, {\\\"id\\\": 80, \\\"name\\\": \\\"Crime\\\"}]\"\n",
    "\n",
    "type GenreProvider = JsonProvider< SampleGenresJson >\n",
    "\n",
    "let sanitizeGenre (genres : string) : string list = \n",
    "    let parsed = GenreProvider.Parse(genres)\n",
    "    parsed\n",
    "    |> Array.map( fun x -> x.Name.Replace(\" \", \"\")) \n",
    "    |> String.concat \" \"\n",
    "    |> tokenizeAndClean\n",
    "\n",
    "// Keywords\n",
    "[<Literal>]\n",
    "let SampleKeywordsJson = \"[{\\\"id\\\": 1463, \\\"name\\\": \\\"culture clash\\\"}, {\\\"id\\\": 2964, \\\"name\\\": \\\"future\\\"}, {\\\"id\\\": 3386, \\\"name\\\": \\\"space war\\\"}]\"\n",
    "\n",
    "type KeywordsProvider = JsonProvider< SampleKeywordsJson >\n",
    "\n",
    "let sanitizeKeywords (keywords : string) : string list = \n",
    "    let parsed = KeywordsProvider.Parse(keywords)\n",
    "    parsed\n",
    "    |> Array.map( fun x -> x.Name.Replace(\" \", \"\"))\n",
    "    |> String.concat \" \"\n",
    "    |> tokenizeAndClean\n",
    "\n",
    "// Overview\n",
    "let sanitizeOverview (overview : string) : string list = \n",
    "    let nonAsciiRemoved = Encoding.ASCII.GetString(Encoding.ASCII.GetBytes(overview))\n",
    "    tokenizeAndClean nonAsciiRemoved\n",
    "    |> List.filter( fun x -> x <> String.Empty )\n",
    "    \n",
    "// Production Company\n",
    "[<Literal>]\n",
    "let ProductionCompanyJson = \"[{\\\"name\\\": \\\"Ingenious Film Partners\\\", \\\"id\\\": 289}, {\\\"name\\\": \\\"Twentieth Century Fox Film Corporation\\\", \\\"id\\\": 306}, {\\\"name\\\": \\\"Dune Entertainment\\\", \\\"id\\\": 444}, {\\\"name\\\": \\\"Lightstorm Entertainment\\\", \\\"id\\\": 574}]\"\n",
    "type ProductionCompanyProvider = JsonProvider< ProductionCompanyJson >\n",
    "\n",
    "let sanitizeProductionCompany (productionCompany : string) : string list = \n",
    "    let parsed = ProductionCompanyProvider.Parse(productionCompany)\n",
    "    parsed\n",
    "    |> Array.map( fun x -> x.Name.Replace(\" \", \"\")) // Lightstorm Entertainment -> LightstormEntertainment\n",
    "    |> String.concat \" \"\n",
    "    |> tokenizeAndClean"
   ]
  },
  {
   "cell_type": "markdown",
   "metadata": {},
   "source": [
    "## Load Data"
   ]
  },
  {
   "cell_type": "code",
   "execution_count": 23,
   "metadata": {},
   "outputs": [],
   "source": [
    "let extractData =\n",
    "    let data = CsvFile.Load(DataPath).Cache()\n",
    "    let mutable output = []\n",
    "    for row in data.Rows do\n",
    "        let title    = (row.GetColumn \"title\")\n",
    "        \n",
    "        // Genres\n",
    "        let genres        = sanitizeGenre (row.GetColumn \"genres\")\n",
    "        let getSoupGenres = genres |> String.concat \" \"\n",
    "        \n",
    "        // Keywords\n",
    "        let keywords       = sanitizeKeywords (row.GetColumn \"keywords\")\n",
    "        let getSoupKeyword = keywords |> String.concat \" \"\n",
    "        \n",
    "        // Overview\n",
    "        let overview        = sanitizeOverview (row.GetColumn \"overview\")\n",
    "        let getSoupOverview = overview |> String.concat \" \"\n",
    "        \n",
    "        // Production Company\n",
    "        let productionCompany        = sanitizeProductionCompany (row.GetColumn \"production_companies\")\n",
    "        let getSoupProductionCompany = productionCompany |> String.concat \" \"\n",
    "        \n",
    "        // Soup\n",
    "        let soup     = getSoupGenres + \" \" + getSoupKeyword + \" \" + getSoupOverview + \" \" + getSoupProductionCompany\n",
    "        let soupList = genres @ keywords @ overview @ productionCompany\n",
    "        \n",
    "        // Popularity\n",
    "        let popularity = double(row.GetColumn \"popularity\")\n",
    "        \n",
    "        // Construct data type\n",
    "        let movieCompareData = { title = title; \n",
    "                                 soup  = soup;\n",
    "                                 popularity = popularity;\n",
    "                                 soupList = soupList }\n",
    "    \n",
    "        // Append the output\n",
    "        output <- output @ [movieCompareData]\n",
    "    output\n",
    "  \n",
    "let getDictOfData = \n",
    "    let out = Dictionary<string, MovieCompareData>()\n",
    "    for w in extractData do\n",
    "        out.[w.title] <- w\n",
    "    out"
   ]
  },
  {
   "cell_type": "code",
   "execution_count": 24,
   "metadata": {},
   "outputs": [
    {
     "data": {
      "text/html": [
       "<table><thead><tr><th><i>index</i></th><th>Key</th><th>Value</th></tr></thead><tbody><tr><td>0</td><td>Avatar</td><td>{ FSI_0022+MovieCompareData: title: Avatar, soup: action adventure fantasy sciencefiction 3d alien alienplanet antiwar battle cgi cultureclash future futuristic loveaffair marine mindandsoul powerrelations romance society soldier space spacecolony spacetravel spacewar tribe 22nd alien becomes century civilization dispatched following marine mission moon orders pandora paraplegic protecting torn unique duneentertainment ingeniousfilmpartners lightstormentertainment twentiethcenturyfoxfilmcorporation, soupList: [ action, adventure, fantasy, sciencefiction, 3d, alien, alienplanet, antiwar, battle, cgi ... (35 more) ], popularity: 150.437577 }</td></tr></tbody></table>"
      ]
     },
     "execution_count": 24,
     "metadata": {},
     "output_type": "execute_result"
    }
   ],
   "source": [
    "getDictOfData\n",
    "|> Seq.take 1"
   ]
  },
  {
   "cell_type": "markdown",
   "metadata": {},
   "source": [
    "### Word Frequency Table And Popularity Helpers"
   ]
  },
  {
   "cell_type": "code",
   "execution_count": 25,
   "metadata": {},
   "outputs": [],
   "source": [
    "// Function gets all the distinct words from the soup list\n",
    "let getAllWords : seq<string> = \n",
    "    extractData\n",
    "    |> Seq.map(fun x -> x.soupList)\n",
    "    |> Seq.concat \n",
    "    |> Seq.distinct\n",
    "\n",
    "let getWordCountForSoup (movieCompare : MovieCompareData) = \n",
    "    let wordCount = new Dictionary<string, int>()\n",
    "    for w in getAllWords do\n",
    "        let count = \n",
    "            movieCompare.soupList\n",
    "            |> List.filter( fun x -> x = w )\n",
    "            |> List.length\n",
    "        if not (wordCount.ContainsKey w) then wordCount.[w] <- count\n",
    "        else wordCount.[w] <- wordCount.[w] + count\n",
    "    wordCount\n",
    "    \n",
    "let getWordCountVectorForSoup (movieCompare : MovieCompareData) = \n",
    "    (getWordCountForSoup movieCompare).Values\n",
    "    |> Seq.map (fun x -> double(x))\n",
    "    |> Seq.toArray\n",
    "    \n",
    "let getWordCountVector (movieName : string) = \n",
    "    if getDictOfData.ContainsKey movieName then Some (getWordCountVectorForSoup getDictOfData.[movieName])\n",
    "    else\n",
    "        failwith \"Movie Not Found!\"\n",
    "        \n",
    "let getPopularity (movieName : string) : float[] = \n",
    "    if getDictOfData.ContainsKey movieName then ([| getDictOfData.[movieName].popularity |])\n",
    "    else\n",
    "        failwith \"Movie Not Found!\""
   ]
  },
  {
   "cell_type": "code",
   "execution_count": 26,
   "metadata": {},
   "outputs": [
    {
     "name": "stdout",
     "output_type": "stream",
     "text": [
      "seq [[action, 1]; [adventure, 1]; [fantasy, 1]; [sciencefiction, 1]; ...]\n",
      "Some\n",
      "  [|1.0; 1.0; 1.0; 1.0; 1.0; 2.0; 1.0; 1.0; 1.0; 1.0; 1.0; 1.0; 1.0; 1.0; 2.0;\n",
      "    1.0; 1.0; 1.0; 1.0; 1.0; 1.0; 1.0; 1.0; 1.0; 1.0; 1.0; 1.0; 1.0; 1.0; 1.0;\n",
      "    1.0; 1.0; 1.0; 1.0; 1.0; 1.0; 1.0; 1.0; 1.0; 1.0; 1.0; 1.0; 1.0; 0.0; 0.0;\n",
      "    0.0; 0.0; 0.0; 0.0; 0.0; 0.0; 0.0; 0.0; 0.0; 0.0; 0.0; 0.0; 0.0; 0.0; 0.0;\n",
      "    0.0; 0.0; 0.0; 0.0; 0.0; 0.0; 0.0; 0.0; 0.0; 0.0; 0.0; 0.0; 0.0; 0.0; 0.0;\n",
      "    0.0; 0.0; 0.0; 0.0; 0.0; 0.0; 0.0; 0.0; 0.0; 0.0; 0.0; 0.0; 0.0; 0.0; 0.0;\n",
      "    0.0; 0.0; 0.0; 0.0; 0.0; 0.0; 0.0; 0.0; 0.0; 0.0; ...|]\n",
      "Popularity of Avatar: [|150.437577|]\n",
      "seq [[action, 1]; [adventure, 0]; [fantasy, 0]; [sciencefiction, 0]; ...]\n",
      "Some\n",
      "  [|1.0; 0.0; 0.0; 0.0; 0.0; 0.0; 0.0; 0.0; 0.0; 0.0; 0.0; 0.0; 0.0; 0.0; 0.0;\n",
      "    0.0; 0.0; 0.0; 0.0; 0.0; 0.0; 0.0; 0.0; 0.0; 0.0; 0.0; 0.0; 0.0; 0.0; 0.0;\n",
      "    1.0; 0.0; 0.0; 0.0; 0.0; 0.0; 0.0; 0.0; 0.0; 0.0; 0.0; 0.0; 0.0; 0.0; 0.0;\n",
      "    0.0; 0.0; 0.0; 0.0; 0.0; 0.0; 0.0; 0.0; 0.0; 0.0; 0.0; 0.0; 0.0; 0.0; 0.0;\n",
      "    0.0; 0.0; 0.0; 0.0; 0.0; 0.0; 0.0; 0.0; 0.0; 0.0; 0.0; 0.0; 0.0; 0.0; 0.0;\n",
      "    0.0; 0.0; 0.0; 0.0; 1.0; 0.0; 0.0; 0.0; 0.0; 0.0; 0.0; 0.0; 0.0; 0.0; 0.0;\n",
      "    0.0; 0.0; 0.0; 0.0; 0.0; 0.0; 0.0; 0.0; 0.0; 0.0; ...|]\n",
      "Popularity of The Dark Knight Rises: [|112.31295|]\n"
     ]
    },
    {
     "data": {
      "text/html": [
       "<null>"
      ]
     },
     "execution_count": 26,
     "metadata": {},
     "output_type": "execute_result"
    }
   ],
   "source": [
    "printfn \"%A\" (getWordCountForSoup (getDictOfData.[\"Avatar\"]))\n",
    "let avatarVector = getWordCountVector \"Avatar\"\n",
    "printfn \"%A\" avatarVector\n",
    "printfn \"Popularity of Avatar: %A\" (getPopularity \"Avatar\")\n",
    "\n",
    "printfn \"%A\" (getWordCountForSoup (getDictOfData.[\"The Dark Knight Rises\"]))\n",
    "let darkKnightVector = getWordCountVector \"The Dark Knight Rises\"\n",
    "printfn \"%A\" darkKnightVector\n",
    "printfn \"Popularity of The Dark Knight Rises: %A\" (getPopularity \"The Dark Knight Rises\")"
   ]
  },
  {
   "cell_type": "markdown",
   "metadata": {},
   "source": [
    "## Cosine Distance\n",
    "\n",
    "Now that we have "
   ]
  },
  {
   "cell_type": "code",
   "execution_count": 27,
   "metadata": {},
   "outputs": [
    {
     "name": "stdout",
     "output_type": "stream",
     "text": [
      "Cosine Distance when values are equal: 0.0\n",
      "Cosine Distance when values are different: 0.105572809\n"
     ]
    },
    {
     "data": {
      "text/html": [
       "<null>"
      ]
     },
     "execution_count": 27,
     "metadata": {},
     "output_type": "execute_result"
    }
   ],
   "source": [
    "let x : double[] = [| 3.; 1. |]\n",
    "let y : double[] = [| 3.; 3. |]\n",
    "\n",
    "printfn \"Cosine Distance when values are equal: %A\" (Distance.Cosine(x, x))\n",
    "printfn \"Cosine Distance when values are different: %A\" (Distance.Cosine(x, y))"
   ]
  },
  {
   "cell_type": "code",
   "execution_count": 28,
   "metadata": {},
   "outputs": [],
   "source": [
    "let computeCosineDistance (movie1 : string) (movie2 : string) : double  = \n",
    "    let movie1Vector = getWordCountVector movie1\n",
    "    let movie2Vector = getWordCountVector movie2\n",
    "    \n",
    "    let movie1popularity = getPopularity movie1\n",
    "    let movie2popularity = getPopularity movie2\n",
    "    \n",
    "    match movie1Vector, movie2Vector with\n",
    "    | Some m1, Some m2 -> (Distance.Cosine(m1, m2) + Distance.Cosine(movie1popularity, movie2popularity)) / 2.0\n",
    "    | None, Some _ -> failwith \"Movie 1 not found in the data.\"\n",
    "    | Some _, None -> failwith \"Movie 2 not found in the data.\"\n",
    "    | _ -> failwith \"Neither of the movies found in the data.\""
   ]
  },
  {
   "cell_type": "code",
   "execution_count": 29,
   "metadata": {},
   "outputs": [
    {
     "data": {
      "text/plain": [
       "0.48450496729866754"
      ]
     },
     "execution_count": 29,
     "metadata": {},
     "output_type": "execute_result"
    }
   ],
   "source": [
    "computeCosineDistance \"Avatar\" \"The Dark Knight Rises\""
   ]
  },
  {
   "cell_type": "markdown",
   "metadata": {},
   "source": [
    "# Recommendations\n",
    "\n",
    "Now that we have all the pieces, we can easily wrap up the logic into one function that takes in the movie name and number of recommendations and returns back a list of tuples comprising of the name of recommended movie and the cosine distance."
   ]
  },
  {
   "cell_type": "code",
   "execution_count": 30,
   "metadata": {},
   "outputs": [],
   "source": [
    "let recommendMovies (movie : string) (recommendationCount : int) =\n",
    "    if getDictOfData.ContainsKey movie then\n",
    "        let movieData = getDictOfData.[movie]\n",
    "        getDictOfData\n",
    "        |> Seq.filter( fun x -> not( x.Value = movieData )) // Don't include the current item in question.\n",
    "        |> Seq.map( fun x -> (x.Value.title, computeCosineDistance movie x.Value.title ))\n",
    "        |> Seq.filter( fun x -> not( System.Double.IsNaN( snd x )))\n",
    "        |> Seq.sortBy( fun x -> snd x )\n",
    "        |> Seq.take (recommendationCount)\n",
    "        |> Seq.toList\n",
    "    else\n",
    "        failwith \"Movie not found!\""
   ]
  },
  {
   "cell_type": "code",
   "execution_count": 34,
   "metadata": {},
   "outputs": [
    {
     "name": "stdout",
     "output_type": "stream",
     "text": [
      "(\"Titan A.E.\", 0.3825721519)\n",
      "(\"Aliens vs Predator: Requiem\", 0.3923173769)\n",
      "(\"Predators\", 0.3979591837)\n",
      "(\"Jupiter Ascending\", 0.3989847455)\n",
      "(\"Independence Day\", 0.4029476828)\n",
      "(\"Lifeforce\", 0.4062296483)\n",
      "(\"Small Soldiers\", 0.410197349)\n",
      "(\"Prometheus\", 0.4107578503)\n",
      "(\"Ender's Game\", 0.4118266572)\n",
      "(\"Predator\", 0.4133801339)\n"
     ]
    },
    {
     "data": {
      "text/html": [
       "<null>"
      ]
     },
     "execution_count": 34,
     "metadata": {},
     "output_type": "execute_result"
    }
   ],
   "source": [
    "let avatarResults = \n",
    "    (recommendMovies \"Avatar\" 10)\n",
    "    |> List.iter( fun x -> printfn \"%A\" x)\n",
    "avatarResults"
   ]
  }
 ],
 "metadata": {
  "kernelspec": {
   "display_name": ".NET (F#)",
   "language": "F#",
   "name": ".net-fsharp"
  },
  "language": "fsharp",
  "language_info": {
   "file_extension": ".fs",
   "mimetype": "text/x-fsharp",
   "name": "C#",
   "pygments_lexer": "fsharp",
   "version": "4.5"
  }
 },
 "nbformat": 4,
 "nbformat_minor": 2
}
