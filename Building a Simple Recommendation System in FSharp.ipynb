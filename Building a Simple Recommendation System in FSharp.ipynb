{
 "cells": [
  {
   "cell_type": "markdown",
   "metadata": {},
   "source": [
    "# Building a Simple Recommendation System in FSharp\n",
    "\n",
    "## Introduction \n",
    "\n",
    "This year, I decided to keep my FSharp Advent article simple in that I'll be creating a very simply Content Recommendation system based on the TMDB data that can be found [here](https://www.kaggle.com/tmdb/tmdb-movie-metadata). \n",
    "\n",
    "## Preliminaries"
   ]
  },
  {
   "cell_type": "code",
   "execution_count": 1,
   "metadata": {},
   "outputs": [],
   "source": [
    "//#r \"nuget:Microsoft.ML\"\n",
    "//#r \"nuget:MathNet.Numerics\"\n",
    "//#r \"nuget:MathNet.Numerics.FSharp\"\n",
    "//#r \"nuget:FSharp.Data\"\n",
    "\n",
    "#load \"Paket.fsx\"\n",
    "Paket.Package [ \"FSharp.Data\"; \"FsLab\" ]\n",
    "#load \"Paket.Generated.Refs.fsx\""
   ]
  },
  {
   "cell_type": "markdown",
   "metadata": {},
   "source": [
    "### Imports and Data Path"
   ]
  },
  {
   "cell_type": "code",
   "execution_count": 2,
   "metadata": {},
   "outputs": [],
   "source": [
    "open System\n",
    "open System.Text\n",
    "open FSharp.Data\n",
    "open MathNet.Numerics\n",
    "open System.Collections.Generic\n",
    "open Microsoft.FSharp.Collections\n",
    "\n",
    "[<Literal>]\n",
    "// Data obtained from: https://www.kaggle.com/tmdb/tmdb-movie-metadata\n",
    "let DataPath = \"../../Desktop/F#/FSharp-Advent-2019/data/tmdb_5000_movies.csv\""
   ]
  },
  {
   "cell_type": "markdown",
   "metadata": {},
   "source": [
    "## Data Processing\n",
    "\n",
    "### Data Exploration"
   ]
  },
  {
   "cell_type": "code",
   "execution_count": 3,
   "metadata": {},
   "outputs": [
    {
     "data": {
      "text/plain": [
       "Some\n",
       "  [|\"budget\"; \"genres\"; \"homepage\"; \"id\"; \"keywords\"; \"original_language\";\n",
       "    \"original_title\"; \"overview\"; \"popularity\"; \"production_companies\";\n",
       "    \"production_countries\"; \"release_date\"; \"revenue\"; \"runtime\";\n",
       "    \"spoken_languages\"; \"status\"; \"tagline\"; \"title\"; \"vote_average\";\n",
       "    \"vote_count\"|]"
      ]
     },
     "execution_count": 3,
     "metadata": {},
     "output_type": "execute_result"
    }
   ],
   "source": [
    "let data = CsvFile.Load(DataPath).Cache()\n",
    "data.Headers"
   ]
  },
  {
   "cell_type": "markdown",
   "metadata": {},
   "source": [
    "Based on the headers, we will consider 2 features:\n",
    "1. __Word Soup__: Consisting of sanitized words based on the genres, keywords, production companies and overview.\n",
    "    - Similar movies would have similar genres, keywords, production companies and words in the overview and therefore could lead to good recommendations.\n",
    "2. __Popularity__: A popularity score from TMDB. The rationale here is that the recommendations will be based on similar popularity scores."
   ]
  },
  {
   "cell_type": "code",
   "execution_count": 4,
   "metadata": {},
   "outputs": [],
   "source": [
    "let getFirstItemInColumn (colName : string) = \n",
    "    seq { for row in data.Rows -> row.GetColumn colName }\n",
    "    |> Seq.head"
   ]
  },
  {
   "cell_type": "markdown",
   "metadata": {},
   "source": [
    "#### Genres"
   ]
  },
  {
   "cell_type": "code",
   "execution_count": 5,
   "metadata": {},
   "outputs": [
    {
     "data": {
      "text/plain": [
       "\"[{\"id\": 28, \"name\": \"Action\"}, {\"id\": 12, \"name\": \"Adventure\"}, {\"id\": 14, \"name\": \"Fantasy\"}, {\"id\": 878, \"name\": \"Science Fiction\"}]\""
      ]
     },
     "execution_count": 5,
     "metadata": {},
     "output_type": "execute_result"
    }
   ],
   "source": [
    "getFirstItemInColumn \"genres\""
   ]
  },
  {
   "cell_type": "markdown",
   "metadata": {},
   "source": [
    "#### Keywords"
   ]
  },
  {
   "cell_type": "code",
   "execution_count": 6,
   "metadata": {},
   "outputs": [
    {
     "data": {
      "text/plain": [
       "\"[{\"id\": 1463, \"name\": \"culture clash\"}, {\"id\": 2964, \"name\": \"future\"}, {\"id\": 3386, \"name\": \"space war\"}, {\"id\": 3388, \"name\": \"space colony\"}, {\"id\": 3679, \"name\": \"society\"}, {\"id\": 3801, \"name\": \"space travel\"}, {\"id\": 9685, \"name\": \"futuristic\"}, {\"id\": 9840, \"name\": \"romance\"}, {\"id\": 9882, \"name\": \"space\"}, {\"id\": 9951, \"name\": \"alien\"}, {\"id\": 10148, \"name\": \"tribe\"}, {\"id\": 10158, \"name\": \"alien planet\"}, {\"id\": 10987, \"name\": \"cgi\"}, {\"id\": 11399, \"name\": \"marine\"}, {\"id\": 13065, \"name\": \"soldier\"}, {\"id\": 14643, \"name\": \"battle\"}, {\"id\": 14720, \"name\": \"love affair\"}, {\"id\": 165431, \"name\": \"anti war\"}, {\"id\": 193554, \"name\": \"power relations\"}, {\"id\": 206690, \"name\": \"mind and soul\"}, {\"id\": 209714, \"name\": \"3d\"}]\""
      ]
     },
     "execution_count": 6,
     "metadata": {},
     "output_type": "execute_result"
    }
   ],
   "source": [
    "getFirstItemInColumn \"keywords\""
   ]
  },
  {
   "cell_type": "markdown",
   "metadata": {},
   "source": [
    "#### Overview"
   ]
  },
  {
   "cell_type": "code",
   "execution_count": 7,
   "metadata": {},
   "outputs": [
    {
     "data": {
      "text/plain": [
       "\"In the 22nd century, a paraplegic Marine is dispatched to the moon Pandora on a unique mission, but becomes torn between following orders and protecting an alien civilization.\""
      ]
     },
     "execution_count": 7,
     "metadata": {},
     "output_type": "execute_result"
    }
   ],
   "source": [
    "getFirstItemInColumn \"overview\""
   ]
  },
  {
   "cell_type": "markdown",
   "metadata": {},
   "source": [
    "#### Production Company"
   ]
  },
  {
   "cell_type": "code",
   "execution_count": 8,
   "metadata": {},
   "outputs": [
    {
     "data": {
      "text/plain": [
       "\"[{\"name\": \"Ingenious Film Partners\", \"id\": 289}, {\"name\": \"Twentieth Century Fox Film Corporation\", \"id\": 306}, {\"name\": \"Dune Entertainment\", \"id\": 444}, {\"name\": \"Lightstorm Entertainment\", \"id\": 574}]\""
      ]
     },
     "execution_count": 8,
     "metadata": {},
     "output_type": "execute_result"
    }
   ],
   "source": [
    "getFirstItemInColumn \"production_companies\""
   ]
  },
  {
   "cell_type": "markdown",
   "metadata": {},
   "source": [
    "#### Popularity"
   ]
  },
  {
   "cell_type": "code",
   "execution_count": 9,
   "metadata": {},
   "outputs": [
    {
     "data": {
      "text/plain": [
       "\"150.437577\""
      ]
     },
     "execution_count": 9,
     "metadata": {},
     "output_type": "execute_result"
    }
   ],
   "source": [
    "getFirstItemInColumn \"popularity\""
   ]
  },
  {
   "cell_type": "markdown",
   "metadata": {},
   "source": [
    "Based on the samples of the columns considered, it seems like we'll need to sanitize the data extensively. Before we do so, let's define the domain objects we will be dealing with."
   ]
  },
  {
   "cell_type": "markdown",
   "metadata": {},
   "source": [
    "## Domain"
   ]
  },
  {
   "cell_type": "code",
   "execution_count": 10,
   "metadata": {},
   "outputs": [],
   "source": [
    "type MovieCompareData = { title      : string; \n",
    "                          soup       : string;\n",
    "                          soupList   : string list;\n",
    "                          popularity : double }"
   ]
  },
  {
   "cell_type": "markdown",
   "metadata": {},
   "source": [
    "### Tokenization "
   ]
  },
  {
   "cell_type": "code",
   "execution_count": 11,
   "metadata": {},
   "outputs": [],
   "source": [
    "let tokenizeAndClean (words : string) : string list =\n",
    "    // Tokenize\n",
    "    let split = words.Split(' ')\n",
    "    \n",
    "    // Lowercase\n",
    "    let lowered = \n",
    "        split\n",
    "        |> Array.map(fun s -> s.ToLower())\n",
    "    \n",
    "    // Remove Common Stop Words that don't add meaning\n",
    "    let commonStopWords = \n",
    "        Set.ofList [\"ourselves\"; \"hers\"; \"between\"; \"yourself\"; \"but\"; \"again\"; \"there\"; \"about\"; \"once\"; \"during\"; \"out\"; \"very\"; \"having\"; \"with\"; \"they\"; \"own\"; \"an\"; \"be\"; \"some\"; \"for\"; \"do\"; \"its\"; \"yours\"; \"such\"; \"into\"; \"of\"; \"most\"; \"itself\"; \"other\"; \"off\"; \"is\"; \"s\"; \"am\"; \"or\"; \"who\"; \"as\"; \"from\"; \"him\"; \"each\"; \"the\"; \"themselves\"; \"until\"; \"below\"; \"are\"; \"we\"; \"these\"; \"your\"; \"his\"; \"through\"; \"don\"; \"nor\"; \"me\"; \"were\"; \"her\"; \"more\"; \"himself\"; \"this\"; \"down\"; \"should\"; \"our\"; \"their\"; \"while\"; \"above\"; \"both\"; \"up\"; \"to\"; \"ours\"; \"had\"; \"she\"; \"all\"; \"no\"; \"when\"; \"at\"; \"any\"; \"before\"; \"them\"; \"same\"; \"and\"; \"been\"; \"have\"; \"in\"; \"will\"; \"on\"; \"does\"; \"yourselves\"; \"then\"; \"that\"; \"because\"; \"what\"; \"over\"; \"why\"; \"so\"; \"can\"; \"did\"; \"not\"; \"now\"; \"under\"; \"he\"; \"you\"; \"herself\"; \"has\"; \"just\"; \"where\"; \"too\"; \"only\"; \"myself\"; \"which\"; \"those\"; \"i\"; \"after\"; \"few\"; \"whom\"; \"t\"; \"being\"; \"if\"; \"theirs\"; \"my\"; \"against\"; \"a\"; \"by\"; \"doing\"; \"it\"; \"how\"; \"further\"; \"was\"; \"here\"; \"than\"]\n",
    "    let notStopWords =\n",
    "        lowered\n",
    "        |> Array.filter(fun s -> not (Set.contains s commonStopWords))\n",
    "\n",
    "    // Remove Punctuation\n",
    "    let nonPunctation =  \n",
    "        notStopWords\n",
    "        |> Array.map(fun x -> x.Replace(\"�\", \"\")\n",
    "                               .Replace(\"'\", \"\")\n",
    "                               .Replace(\":\", \"\")\n",
    "                               .Replace(\".\", \"\")\n",
    "                               .Replace(\",\", \"\")\n",
    "                               .Replace(\"-\", \"\")\n",
    "                               .Replace(\"!\", \"\")\n",
    "                               .Replace(\"?\", \"\")\n",
    "                               .Replace(\"\\\"\", \"\")\n",
    "                               .Replace(\";\", \"\"))\n",
    "    \n",
    "    // Lexicographically sort\n",
    "    let sorted = Array.sort nonPunctation\n",
    "    \n",
    "    // Concatenate the joined data\n",
    "    sorted\n",
    "    |> Array.toList"
   ]
  },
  {
   "cell_type": "code",
   "execution_count": 12,
   "metadata": {},
   "outputs": [
    {
     "data": {
      "text/plain": [
       "[\"brown\"; \"dog\"; \"fox\"; \"jumps\"; \"lazy\"; \"quick\"; \"the\"]"
      ]
     },
     "execution_count": 12,
     "metadata": {},
     "output_type": "execute_result"
    }
   ],
   "source": [
    "let sample = \"The quick brown. fox jumps! over the; Lazy dog\" \n",
    "let tokenizedSample = tokenizeAndClean sample\n",
    "tokenizedSample"
   ]
  },
  {
   "cell_type": "markdown",
   "metadata": {},
   "source": [
    "### Sanitization Functions"
   ]
  },
  {
   "cell_type": "code",
   "execution_count": 13,
   "metadata": {},
   "outputs": [],
   "source": [
    "// Genre\n",
    "[<Literal>]\n",
    "let SampleGenresJson = \"[{\\\"id\\\": 28, \\\"name\\\": \\\"Action\\\"}, {\\\"id\\\": 12, \\\"name\\\": \\\"Adventure\\\"}, {\\\"id\\\": 80, \\\"name\\\": \\\"Crime\\\"}]\"\n",
    "\n",
    "type GenreProvider = JsonProvider< SampleGenresJson >\n",
    "\n",
    "let sanitizeGenre (genres : string) : string list = \n",
    "    let parsed = GenreProvider.Parse(genres)\n",
    "    parsed\n",
    "    |> Array.map( fun x -> x.Name.Replace(\" \", \"\")) \n",
    "    |> String.concat \" \"\n",
    "    |> tokenizeAndClean\n",
    "\n",
    "// Keywords\n",
    "[<Literal>]\n",
    "let SampleKeywordsJson = \"[{\\\"id\\\": 1463, \\\"name\\\": \\\"culture clash\\\"}, {\\\"id\\\": 2964, \\\"name\\\": \\\"future\\\"}, {\\\"id\\\": 3386, \\\"name\\\": \\\"space war\\\"}]\"\n",
    "\n",
    "type KeywordsProvider = JsonProvider< SampleKeywordsJson >\n",
    "\n",
    "let sanitizeKeywords (keywords : string) : string list = \n",
    "    let parsed = KeywordsProvider.Parse(keywords)\n",
    "    parsed\n",
    "    |> Array.map( fun x -> x.Name.Replace(\" \", \"\"))\n",
    "    |> String.concat \" \"\n",
    "    |> tokenizeAndClean\n",
    "\n",
    "// Overview\n",
    "let sanitizeOverview (overview : string) : string list = \n",
    "    let nonAsciiRemoved = Encoding.ASCII.GetString(Encoding.ASCII.GetBytes(overview))\n",
    "    tokenizeAndClean nonAsciiRemoved\n",
    "    |> List.filter( fun x -> x <> String.Empty )\n",
    "    \n",
    "// Production Company\n",
    "[<Literal>]\n",
    "let ProductionCompanyJson = \"[{\\\"name\\\": \\\"Ingenious Film Partners\\\", \\\"id\\\": 289}, {\\\"name\\\": \\\"Twentieth Century Fox Film Corporation\\\", \\\"id\\\": 306}, {\\\"name\\\": \\\"Dune Entertainment\\\", \\\"id\\\": 444}, {\\\"name\\\": \\\"Lightstorm Entertainment\\\", \\\"id\\\": 574}]\"\n",
    "type ProductionCompanyProvider = JsonProvider< ProductionCompanyJson >\n",
    "\n",
    "let sanitizeProductionCompany (productionCompany : string) : string list = \n",
    "    let parsed = ProductionCompanyProvider.Parse(productionCompany)\n",
    "    parsed\n",
    "    |> Array.map( fun x -> x.Name.Replace(\" \", \"\")) // Lightstorm Entertainment -> LightstormEntertainment\n",
    "    |> String.concat \" \"\n",
    "    |> tokenizeAndClean"
   ]
  },
  {
   "cell_type": "markdown",
   "metadata": {},
   "source": [
    "## Load Data"
   ]
  },
  {
   "cell_type": "code",
   "execution_count": 15,
   "metadata": {},
   "outputs": [],
   "source": [
    "let extractData =\n",
    "    let data = CsvFile.Load(DataPath).Cache()\n",
    "    let mutable output = []\n",
    "    for row in data.Rows do\n",
    "        let title    = (row.GetColumn \"title\")\n",
    "        \n",
    "        // Genres\n",
    "        let genres        = sanitizeGenre (row.GetColumn \"genres\")\n",
    "        let getSoupGenres = genres |> String.concat \" \"\n",
    "        \n",
    "        // Keywords\n",
    "        let keywords       = sanitizeKeywords (row.GetColumn \"keywords\")\n",
    "        let getSoupKeyword = keywords |> String.concat \" \"\n",
    "        \n",
    "        // Overview\n",
    "        let overview        = sanitizeOverview (row.GetColumn \"overview\")\n",
    "        let getSoupOverview = overview |> String.concat \" \"\n",
    "        \n",
    "        // Production Company\n",
    "        let productionCompany        = sanitizeProductionCompany (row.GetColumn \"production_companies\")\n",
    "        let getSoupProductionCompany = productionCompany |> String.concat \" \"\n",
    "        \n",
    "        // Soup\n",
    "        let soup     = getSoupGenres + \" \" + getSoupKeyword + \" \" + getSoupOverview + \" \" + getSoupProductionCompany\n",
    "        let soupList = genres @ keywords @ overview @ productionCompany\n",
    "        \n",
    "        // Popularity\n",
    "        let popularity = double(row.GetColumn \"popularity\")\n",
    "        \n",
    "        // Construct data type\n",
    "        let movieCompareData = { title = title; \n",
    "                                 soup  = soup;\n",
    "                                 popularity = popularity;\n",
    "                                 soupList = soupList }\n",
    "    \n",
    "        // Append the output\n",
    "        output <- output @ [movieCompareData]\n",
    "    output\n",
    "  \n",
    "let getDictOfData = \n",
    "    let out = Dictionary<string, MovieCompareData>()\n",
    "    for w in extractData do\n",
    "        out.[w.title] <- w\n",
    "    out"
   ]
  },
  {
   "cell_type": "code",
   "execution_count": 16,
   "metadata": {},
   "outputs": [
    {
     "data": {
      "text/plain": [
       "seq\n",
       "  [[Avatar, {title = \"Avatar\";\n",
       " soup =\n",
       "  \"action adventure fantasy sciencefiction 3d alien alienplanet antiwar battle cgi cultureclash future futuristic loveaffair marine mindandsoul powerrelations romance society soldier space spacecolony spacetravel spacewar tribe 22nd alien becomes century civilization dispatched following marine mission moon orders pandora paraplegic protecting torn unique duneentertainment ingeniousfilmpartners lightstormentertainment twentiethcenturyfoxfilmcorporation\";\n",
       " soupList =\n",
       "  [\"action\"; \"adventure\"; \"fantasy\"; \"sciencefiction\"; \"3d\"; \"alien\";\n",
       "   \"alienplanet\"; \"antiwar\"; \"battle\"; \"cgi\"; \"cultureclash\"; \"future\";\n",
       "   \"futuristic\"; \"loveaffair\"; \"marine\"; \"mindandsoul\"; \"powerrelations\";\n",
       "   \"romance\"; \"society\"; \"soldier\"; \"space\"; \"spacecolony\"; \"spacetravel\";\n",
       "   \"spacewar\"; \"tribe\"; \"22nd\"; \"alien\"; \"becomes\"; \"century\"; \"civilization\";\n",
       "   \"dispatched\"; \"following\"; \"marine\"; \"mission\"; \"moon\"; \"orders\"; \"pandora\";\n",
       "   \"paraplegic\"; \"protecting\"; \"torn\"; \"unique\"; \"duneentertainment\";\n",
       "   \"ingeniousfilmpartners\"; \"lightstormentertainment\";\n",
       "   \"twentiethcenturyfoxfilmcorporation\"];\n",
       " popularity = 150.437577;}]]"
      ]
     },
     "execution_count": 16,
     "metadata": {},
     "output_type": "execute_result"
    }
   ],
   "source": [
    "getDictOfData\n",
    "|> Seq.take 1"
   ]
  },
  {
   "cell_type": "markdown",
   "metadata": {},
   "source": [
    "### Word Frequency Table Helpers"
   ]
  },
  {
   "cell_type": "code",
   "execution_count": 17,
   "metadata": {},
   "outputs": [],
   "source": [
    "// Function gets all the distinct words from the soup list\n",
    "let getAllWords : seq<string> = \n",
    "    extractData\n",
    "    |> Seq.map(fun x -> x.soupList)\n",
    "    |> Seq.concat \n",
    "    |> Seq.distinct\n",
    "\n",
    "let getWordCountForSoup (movieCompare : MovieCompareData) = \n",
    "    let wordCount = new Dictionary<string, int>()\n",
    "    for w in getAllWords do\n",
    "        let count = \n",
    "            movieCompare.soupList\n",
    "            |> List.filter( fun x -> x = w )\n",
    "            |> List.length\n",
    "        if not (wordCount.ContainsKey w) then wordCount.[w] <- count\n",
    "        else wordCount.[w] <- wordCount.[w] + count\n",
    "    wordCount\n",
    "    \n",
    "let getWordCountVectorForSoup (movieCompare : MovieCompareData) = \n",
    "    (getWordCountForSoup movieCompare).Values\n",
    "    |> Seq.map (fun x -> double(x))\n",
    "    |> Seq.toArray\n",
    "    \n",
    "let getWordCountVector (movieName : string) = \n",
    "    let dictOfData = getDictOfData\n",
    "    if getDictOfData.ContainsKey movieName then Some (getWordCountVectorForSoup getDictOfData.[movieName])\n",
    "    else\n",
    "        failwith \"Movie Not Found!\""
   ]
  },
  {
   "cell_type": "code",
   "execution_count": 18,
   "metadata": {},
   "outputs": [
    {
     "data": {
      "text/plain": [
       "seq [[action, 1]; [adventure, 1]; [fantasy, 1]; [sciencefiction, 1]; ...]\n",
       "Some\n",
       "  [|1.0; 1.0; 1.0; 1.0; 1.0; 2.0; 1.0; 1.0; 1.0; 1.0; 1.0; 1.0; 1.0; 1.0; 2.0;\n",
       "    1.0; 1.0; 1.0; 1.0; 1.0; 1.0; 1.0; 1.0; 1.0; 1.0; 1.0; 1.0; 1.0; 1.0; 1.0;\n",
       "    1.0; 1.0; 1.0; 1.0; 1.0; 1.0; 1.0; 1.0; 1.0; 1.0; 1.0; 1.0; 1.0; 0.0; 0.0;\n",
       "    0.0; 0.0; 0.0; 0.0; 0.0; 0.0; 0.0; 0.0; 0.0; 0.0; 0.0; 0.0; 0.0; 0.0; 0.0;\n",
       "    0.0; 0.0; 0.0; 0.0; 0.0; 0.0; 0.0; 0.0; 0.0; 0.0; 0.0; 0.0; 0.0; 0.0; 0.0;\n",
       "    0.0; 0.0; 0.0; 0.0; 0.0; 0.0; 0.0; 0.0; 0.0; 0.0; 0.0; 0.0; 0.0; 0.0; 0.0;\n",
       "    0.0; 0.0; 0.0; 0.0; 0.0; 0.0; 0.0; 0.0; 0.0; 0.0; ...|]\n",
       "seq [[action, 1]; [adventure, 0]; [fantasy, 0]; [sciencefiction, 0]; ...]\n",
       "Some\n",
       "  [|1.0; 0.0; 0.0; 0.0; 0.0; 0.0; 0.0; 0.0; 0.0; 0.0; 0.0; 0.0; 0.0; 0.0; 0.0;\n",
       "    0.0; 0.0; 0.0; 0.0; 0.0; 0.0; 0.0; 0.0; 0.0; 0.0; 0.0; 0.0; 0.0; 0.0; 0.0;\n",
       "    1.0; 0.0; 0.0; 0.0; 0.0; 0.0; 0.0; 0.0; 0.0; 0.0; 0.0; 0.0; 0.0; 0.0; 0.0;\n",
       "    0.0; 0.0; 0.0; 0.0; 0.0; 0.0; 0.0; 0.0; 0.0; 0.0; 0.0; 0.0; 0.0; 0.0; 0.0;\n",
       "    0.0; 0.0; 0.0; 0.0; 0.0; 0.0; 0.0; 0.0; 0.0; 0.0; 0.0; 0.0; 0.0; 0.0; 0.0;\n",
       "    0.0; 0.0; 0.0; 0.0; 1.0; 0.0; 0.0; 0.0; 0.0; 0.0; 0.0; 0.0; 0.0; 0.0; 0.0;\n",
       "    0.0; 0.0; 0.0; 0.0; 0.0; 0.0; 0.0; 0.0; 0.0; 0.0; ...|]\n"
      ]
     },
     "metadata": {},
     "output_type": "display_data"
    }
   ],
   "source": [
    "printfn \"%A\" (getWordCountForSoup (getDictOfData.[\"Avatar\"]))\n",
    "let avatarVector = getWordCountVector \"Avatar\"\n",
    "printfn \"%A\" avatarVector\n",
    "\n",
    "printfn \"%A\" (getWordCountForSoup (getDictOfData.[\"The Dark Knight Rises\"]))\n",
    "let darkKnightVector = getWordCountVector \"The Dark Knight Rises\"\n",
    "printfn \"%A\" darkKnightVector"
   ]
  },
  {
   "cell_type": "markdown",
   "metadata": {},
   "source": [
    "## Cosine Distance"
   ]
  },
  {
   "cell_type": "code",
   "execution_count": 19,
   "metadata": {},
   "outputs": [
    {
     "data": {
      "text/plain": [
       "Cosine Distance when values are equal: 0.0\n",
       "Cosine Distance when values are different: 0.105572809\n"
      ]
     },
     "metadata": {},
     "output_type": "display_data"
    }
   ],
   "source": [
    "let x : double[] = [| 3.; 1. |]\n",
    "let y : double[] = [| 3.; 3. |]\n",
    "\n",
    "printfn \"Cosine Distance when values are equal: %A\" (Distance.Cosine(x, x))\n",
    "printfn \"Cosine Distance when values are different: %A\" (Distance.Cosine(x, y))"
   ]
  },
  {
   "cell_type": "code",
   "execution_count": 20,
   "metadata": {},
   "outputs": [],
   "source": [
    "let computeCosineDistance (movie1 : string) (movie2 : string) : double  = \n",
    "    let movie1Vector = getWordCountVector movie1\n",
    "    let movie2Vector = getWordCountVector movie2\n",
    "    match movie1Vector, movie2Vector with\n",
    "    | Some m1, Some m2 -> Distance.Cosine(m1, m2)\n",
    "    | None, Some _ -> failwith \"Movie 1 not found in the data.\"\n",
    "    | Some _, None -> failwith \"Movie 2 not found in the data.\"\n",
    "    | _ -> failwith \"Neither of the movies found in the data.\""
   ]
  },
  {
   "cell_type": "code",
   "execution_count": 21,
   "metadata": {},
   "outputs": [
    {
     "data": {
      "text/plain": [
       "0.9690099346"
      ]
     },
     "execution_count": 21,
     "metadata": {},
     "output_type": "execute_result"
    }
   ],
   "source": [
    "computeCosineDistance \"Avatar\" \"The Dark Knight Rises\""
   ]
  },
  {
   "cell_type": "markdown",
   "metadata": {},
   "source": [
    "# Recommendations"
   ]
  },
  {
   "cell_type": "code",
   "execution_count": 24,
   "metadata": {},
   "outputs": [],
   "source": [
    "let recommendMovies (movie : string) (recommendationCount : int) =\n",
    "    if getDictOfData.ContainsKey movie then\n",
    "        let movieData = getDictOfData.[movie]\n",
    "        getDictOfData\n",
    "        |> Seq.take 1000 // Remove this to consider the entire gambit of items\n",
    "        |> Seq.filter( fun x -> not( x.Value = movieData )) // Don't include the current item in question.\n",
    "        |> Seq.map( fun x -> (x.Value.title, computeCosineDistance movie x.Value.title ))\n",
    "        |> Seq.sort\n",
    "        |> Seq.take (recommendationCount)\n",
    "        |> Seq.toList\n",
    "    else\n",
    "        failwith \"Movie not found!\""
   ]
  },
  {
   "cell_type": "code",
   "execution_count": null,
   "metadata": {},
   "outputs": [],
   "source": [
    "(recommendMovies \"Avatar\" 10)\n",
    "|> List.iter( fun x -> printfn \"%A\" x)"
   ]
  }
 ],
 "metadata": {
  "kernelspec": {
   "display_name": "F#",
   "language": "fsharp",
   "name": "ifsharp"
  },
  "language": "fsharp",
  "language_info": {
   "codemirror_mode": "",
   "file_extension": ".fs",
   "mimetype": "text/x-fsharp",
   "name": "fsharp",
   "nbconvert_exporter": "",
   "pygments_lexer": "",
   "version": "4.3.1.0"
  }
 },
 "nbformat": 4,
 "nbformat_minor": 2
}
