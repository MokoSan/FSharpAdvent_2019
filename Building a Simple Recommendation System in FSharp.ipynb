{
 "cells": [
  {
   "cell_type": "markdown",
   "metadata": {},
   "source": [
    "# Building a Simple Recommendation System in FSharp\n",
    "\n",
    "## Introduction \n",
    "\n",
    "## Preliminaries"
   ]
  },
  {
   "cell_type": "code",
   "execution_count": 1,
   "metadata": {},
   "outputs": [],
   "source": [
    "//#r \"nuget:Microsoft.ML\"\n",
    "//#r \"nuget:MathNet.Numerics\"\n",
    "//#r \"nuget:MathNet.Numerics.FSharp\"\n",
    "//#r \"nuget:FSharp.Data\"\n",
    "\n",
    "#load \"Paket.fsx\"\n",
    "Paket.Package [ \"FSharp.Data\"; \"FsLab\" ]\n",
    "#load \"Paket.Generated.Refs.fsx\""
   ]
  },
  {
   "cell_type": "markdown",
   "metadata": {},
   "source": [
    "### Import Packages"
   ]
  },
  {
   "cell_type": "code",
   "execution_count": 2,
   "metadata": {},
   "outputs": [],
   "source": [
    "open System\n",
    "open System.Text\n",
    "open FSharp.Data\n",
    "open MathNet.Numerics\n",
    "open System.Collections.Generic\n",
    "open Microsoft.FSharp.Collections"
   ]
  },
  {
   "cell_type": "markdown",
   "metadata": {},
   "source": [
    "## Domain"
   ]
  },
  {
   "cell_type": "code",
   "execution_count": 3,
   "metadata": {},
   "outputs": [],
   "source": [
    "type MovieCompareData = { title : string; soup : string; soupList : string list }"
   ]
  },
  {
   "cell_type": "markdown",
   "metadata": {},
   "source": [
    "## Data Processing"
   ]
  },
  {
   "cell_type": "markdown",
   "metadata": {},
   "source": [
    "### Tokenization "
   ]
  },
  {
   "cell_type": "code",
   "execution_count": 4,
   "metadata": {},
   "outputs": [],
   "source": [
    "let tokenizeAndClean (words : string) : string list =\n",
    "    // Tokenize\n",
    "    let split = words.Split(' ')\n",
    "    \n",
    "    // Lowercase\n",
    "    let lowered = \n",
    "        split\n",
    "        |> Array.map(fun s -> s.ToLower())\n",
    "    \n",
    "    // Remove Common Stop Words that don't add meaning\n",
    "    let commonStopWords = \n",
    "        Set.ofList [\"ourselves\"; \"hers\"; \"between\"; \"yourself\"; \"but\"; \"again\"; \"there\"; \"about\"; \"once\"; \"during\"; \"out\"; \"very\"; \"having\"; \"with\"; \"they\"; \"own\"; \"an\"; \"be\"; \"some\"; \"for\"; \"do\"; \"its\"; \"yours\"; \"such\"; \"into\"; \"of\"; \"most\"; \"itself\"; \"other\"; \"off\"; \"is\"; \"s\"; \"am\"; \"or\"; \"who\"; \"as\"; \"from\"; \"him\"; \"each\"; \"the\"; \"themselves\"; \"until\"; \"below\"; \"are\"; \"we\"; \"these\"; \"your\"; \"his\"; \"through\"; \"don\"; \"nor\"; \"me\"; \"were\"; \"her\"; \"more\"; \"himself\"; \"this\"; \"down\"; \"should\"; \"our\"; \"their\"; \"while\"; \"above\"; \"both\"; \"up\"; \"to\"; \"ours\"; \"had\"; \"she\"; \"all\"; \"no\"; \"when\"; \"at\"; \"any\"; \"before\"; \"them\"; \"same\"; \"and\"; \"been\"; \"have\"; \"in\"; \"will\"; \"on\"; \"does\"; \"yourselves\"; \"then\"; \"that\"; \"because\"; \"what\"; \"over\"; \"why\"; \"so\"; \"can\"; \"did\"; \"not\"; \"now\"; \"under\"; \"he\"; \"you\"; \"herself\"; \"has\"; \"just\"; \"where\"; \"too\"; \"only\"; \"myself\"; \"which\"; \"those\"; \"i\"; \"after\"; \"few\"; \"whom\"; \"t\"; \"being\"; \"if\"; \"theirs\"; \"my\"; \"against\"; \"a\"; \"by\"; \"doing\"; \"it\"; \"how\"; \"further\"; \"was\"; \"here\"; \"than\"]\n",
    "    let notStopWords =\n",
    "        lowered\n",
    "        |> Array.filter(fun s -> not (Set.contains s commonStopWords))\n",
    "\n",
    "    // Remove Punctuation\n",
    "    let nonPunctation =  \n",
    "        notStopWords\n",
    "        |> Array.map(fun x -> x.Replace(\"�\", \"\")\n",
    "                               .Replace(\"'\", \"\")\n",
    "                               .Replace(\":\", \"\")\n",
    "                               .Replace(\".\", \"\")\n",
    "                               .Replace(\",\", \"\")\n",
    "                               .Replace(\"-\", \"\")\n",
    "                               .Replace(\"!\", \"\")\n",
    "                               .Replace(\"?\", \"\")\n",
    "                               .Replace(\"\\\"\", \"\")\n",
    "                               .Replace(\";\", \"\"))\n",
    "    \n",
    "    // Lexicographically sort\n",
    "    let sorted = Array.sort nonPunctation\n",
    "    \n",
    "    // Concatenate the joined data\n",
    "    sorted\n",
    "    |> Array.toList"
   ]
  },
  {
   "cell_type": "code",
   "execution_count": 5,
   "metadata": {},
   "outputs": [
    {
     "data": {
      "text/plain": [
       "[\"brown\"; \"dog\"; \"fox\"; \"jumps\"; \"lazy\"; \"quick\"; \"the\"]"
      ]
     },
     "execution_count": 5,
     "metadata": {},
     "output_type": "execute_result"
    }
   ],
   "source": [
    "let sample = \"The quick brown. fox jumps! over the; Lazy dog\" \n",
    "let tokenizedSample = tokenizeAndClean sample\n",
    "tokenizedSample"
   ]
  },
  {
   "cell_type": "markdown",
   "metadata": {},
   "source": [
    "### Sanitization Functions"
   ]
  },
  {
   "cell_type": "code",
   "execution_count": 6,
   "metadata": {},
   "outputs": [],
   "source": [
    "// Grab Genre\n",
    "[<Literal>]\n",
    "let SampleGenresJson = \"[{\\\"id\\\": 28, \\\"name\\\": \\\"Action\\\"}, {\\\"id\\\": 12, \\\"name\\\": \\\"Adventure\\\"}, {\\\"id\\\": 80, \\\"name\\\": \\\"Crime\\\"}]\"\n",
    "\n",
    "type GenreProvider = JsonProvider< SampleGenresJson >\n",
    "\n",
    "let sanitizeGenre (genres : string) : string list = \n",
    "    let parsed = GenreProvider.Parse(genres)\n",
    "    parsed\n",
    "    |> Array.map( fun x -> x.Name.Replace(\" \", \"\")) \n",
    "    |> String.concat \" \"\n",
    "    |> tokenizeAndClean\n",
    "\n",
    "// Grab Keywords\n",
    "[<Literal>]\n",
    "let SampleKeywordsJson = \"[{\\\"id\\\": 1463, \\\"name\\\": \\\"culture clash\\\"}, {\\\"id\\\": 2964, \\\"name\\\": \\\"future\\\"}, {\\\"id\\\": 3386, \\\"name\\\": \\\"space war\\\"}]\"\n",
    "\n",
    "type KeywordsProvider = JsonProvider< SampleKeywordsJson >\n",
    "\n",
    "let sanitizeKeywords (keywords : string) : string list = \n",
    "    let parsed = KeywordsProvider.Parse(keywords)\n",
    "    parsed\n",
    "    |> Array.map( fun x -> x.Name.Replace(\" \", \"\"))\n",
    "    |> String.concat \" \"\n",
    "    |> tokenizeAndClean\n",
    "\n",
    "// Grab Overview\n",
    "let sanitizeOverview (overview : string) : string list = \n",
    "    let nonAsciiRemoved = Encoding.ASCII.GetString(Encoding.ASCII.GetBytes(overview))\n",
    "    tokenizeAndClean nonAsciiRemoved\n",
    "    |> List.filter( fun x -> x <> String.Empty )"
   ]
  },
  {
   "cell_type": "markdown",
   "metadata": {},
   "source": [
    "## Load Data"
   ]
  },
  {
   "cell_type": "code",
   "execution_count": 7,
   "metadata": {},
   "outputs": [],
   "source": [
    "let extractData =\n",
    "    let data = CsvFile.Load( \"../../Desktop/F#/FSharp-Advent-2019/data/tmdb_5000_movies.csv\").Cache()\n",
    "    let mutable output = []\n",
    "    for row in data.Rows do\n",
    "        let title    = (row.GetColumn \"title\")\n",
    "        \n",
    "        // Genres\n",
    "        let genres        = sanitizeGenre (row.GetColumn \"genres\")\n",
    "        let getSoupGenres = genres |> String.concat \" \"\n",
    "        \n",
    "        // Keywords\n",
    "        let keywords       = sanitizeKeywords (row.GetColumn \"keywords\")\n",
    "        let getSoupKeyword = keywords |> String.concat \" \"\n",
    "        \n",
    "        // Overview\n",
    "        let overview        = sanitizeOverview (row.GetColumn \"overview\")\n",
    "        let getSoupOverview = overview |> String.concat \" \"\n",
    "        \n",
    "        // Soup\n",
    "        let soup     = getSoupGenres + \" \" + getSoupKeyword + \" \" + getSoupOverview\n",
    "        let soupList = genres @ keywords @ overview\n",
    "        \n",
    "        // Construct data type\n",
    "        let movieCompareData = { title = title; \n",
    "                                 soup  = soup;\n",
    "                                 soupList = soupList }\n",
    "        \n",
    "        // Append the output\n",
    "        output <- output @ [movieCompareData]\n",
    "        \n",
    "    output\n",
    "    \n",
    "let getDictOfData = \n",
    "    let out = Dictionary<string, MovieCompareData>()\n",
    "    for w in extractData do\n",
    "        out.[w.title] <- w\n",
    "    out"
   ]
  },
  {
   "cell_type": "code",
   "execution_count": 8,
   "metadata": {},
   "outputs": [
    {
     "data": {
      "text/plain": [
       "seq\n",
       "  [[Avatar, {title = \"Avatar\";\n",
       " soup =\n",
       "  \"action adventure fantasy sciencefiction 3d alien alienplanet antiwar battle cgi cultureclash future futuristic loveaffair marine mindandsoul powerrelations romance society soldier space spacecolony spacetravel spacewar tribe 22nd alien becomes century civilization dispatched following marine mission moon orders pandora paraplegic protecting torn unique\";\n",
       " soupList =\n",
       "  [\"action\"; \"adventure\"; \"fantasy\"; \"sciencefiction\"; \"3d\"; \"alien\";\n",
       "   \"alienplanet\"; \"antiwar\"; \"battle\"; \"cgi\"; \"cultureclash\"; \"future\";\n",
       "   \"futuristic\"; \"loveaffair\"; \"marine\"; \"mindandsoul\"; \"powerrelations\";\n",
       "   \"romance\"; \"society\"; \"soldier\"; \"space\"; \"spacecolony\"; \"spacetravel\";\n",
       "   \"spacewar\"; \"tribe\"; \"22nd\"; \"alien\"; \"becomes\"; \"century\"; \"civilization\";\n",
       "   \"dispatched\"; \"following\"; \"marine\"; \"mission\"; \"moon\"; \"orders\"; \"pandora\";\n",
       "   \"paraplegic\"; \"protecting\"; \"torn\"; \"unique\"];}]]"
      ]
     },
     "execution_count": 8,
     "metadata": {},
     "output_type": "execute_result"
    }
   ],
   "source": [
    "getDictOfData\n",
    "|> Seq.take 1"
   ]
  },
  {
   "cell_type": "markdown",
   "metadata": {},
   "source": [
    "### Word Frequency Table Helpers"
   ]
  },
  {
   "cell_type": "code",
   "execution_count": 24,
   "metadata": {},
   "outputs": [],
   "source": [
    "let getAllWords = \n",
    "    extractData\n",
    "    |> Seq.map(fun x -> x.soupList)\n",
    "    |> Seq.concat \n",
    "    |> Seq.distinct\n",
    "\n",
    "let getWordCountForSoup (movieCompare : MovieCompareData) = \n",
    "    let words = getAllWords\n",
    "    let wordCount = new Dictionary<string, int>()\n",
    "    for w in words do\n",
    "        let count = \n",
    "            movieCompare.soupList\n",
    "            |> List.filter( fun x -> x = w )\n",
    "            |> List.length\n",
    "        if not (wordCount.ContainsKey w) then wordCount.[w] <- count\n",
    "        else wordCount.[w] <- wordCount.[w] + count\n",
    "    wordCount\n",
    "    \n",
    "let getWordCountVectorForSoup (movieCompare : MovieCompareData) = \n",
    "    (getWordCountForSoup movieCompare).Values\n",
    "    |> Seq.map (fun x -> double(x))\n",
    "    |> Seq.toArray\n",
    "    \n",
    "let getWordCountVector (movieName : string) = \n",
    "    let dictOfData = getDictOfData\n",
    "    if getDictOfData.ContainsKey movieName then Some (getWordCountVectorForSoup getDictOfData.[movieName])\n",
    "    else\n",
    "        failwith \"Movie Not Found!\""
   ]
  },
  {
   "cell_type": "code",
   "execution_count": 32,
   "metadata": {},
   "outputs": [
    {
     "data": {
      "text/plain": [
       "seq [[action, 1]; [adventure, 1]; [fantasy, 1]; [sciencefiction, 1]; ...]\n",
       "Some\n",
       "  [|1.0; 1.0; 1.0; 1.0; 1.0; 2.0; 1.0; 1.0; 1.0; 1.0; 1.0; 1.0; 1.0; 1.0; 2.0;\n",
       "    1.0; 1.0; 1.0; 1.0; 1.0; 1.0; 1.0; 1.0; 1.0; 1.0; 1.0; 1.0; 1.0; 1.0; 1.0;\n",
       "    1.0; 1.0; 1.0; 1.0; 1.0; 1.0; 1.0; 1.0; 1.0; 0.0; 0.0; 0.0; 0.0; 0.0; 0.0;\n",
       "    0.0; 0.0; 0.0; 0.0; 0.0; 0.0; 0.0; 0.0; 0.0; 0.0; 0.0; 0.0; 0.0; 0.0; 0.0;\n",
       "    0.0; 0.0; 0.0; 0.0; 0.0; 0.0; 0.0; 0.0; 0.0; 0.0; 0.0; 0.0; 0.0; 0.0; 0.0;\n",
       "    0.0; 0.0; 0.0; 0.0; 0.0; 0.0; 0.0; 0.0; 0.0; 0.0; 0.0; 0.0; 0.0; 0.0; 0.0;\n",
       "    0.0; 0.0; 0.0; 0.0; 0.0; 0.0; 0.0; 0.0; 0.0; 0.0; ...|]\n",
       "seq [[action, 1]; [adventure, 0]; [fantasy, 0]; [sciencefiction, 0]; ...]\n",
       "Some\n",
       "  [|1.0; 0.0; 0.0; 0.0; 0.0; 0.0; 0.0; 0.0; 0.0; 0.0; 0.0; 0.0; 0.0; 0.0; 0.0;\n",
       "    0.0; 0.0; 0.0; 0.0; 0.0; 0.0; 0.0; 0.0; 0.0; 0.0; 0.0; 0.0; 0.0; 0.0; 0.0;\n",
       "    1.0; 0.0; 0.0; 0.0; 0.0; 0.0; 0.0; 0.0; 0.0; 0.0; 0.0; 0.0; 0.0; 0.0; 0.0;\n",
       "    0.0; 0.0; 0.0; 0.0; 0.0; 0.0; 0.0; 0.0; 0.0; 0.0; 0.0; 0.0; 0.0; 0.0; 0.0;\n",
       "    0.0; 0.0; 0.0; 0.0; 0.0; 0.0; 0.0; 0.0; 0.0; 0.0; 0.0; 0.0; 1.0; 0.0; 0.0;\n",
       "    0.0; 0.0; 0.0; 0.0; 0.0; 0.0; 0.0; 0.0; 0.0; 0.0; 0.0; 0.0; 0.0; 0.0; 0.0;\n",
       "    0.0; 0.0; 0.0; 0.0; 0.0; 0.0; 0.0; 0.0; 0.0; 0.0; ...|]\n"
      ]
     },
     "metadata": {},
     "output_type": "display_data"
    }
   ],
   "source": [
    "printfn \"%A\" (getWordCountForSoup (getDictOfData.[\"Avatar\"]))\n",
    "let avatarVector = getWordCountVector \"Avatar\"\n",
    "printfn \"%A\" avatarVector\n",
    "\n",
    "printfn \"%A\" (getWordCountForSoup (getDictOfData.[\"The Dark Knight Rises\"]))\n",
    "let darkKnightVector = getWordCountVector \"The Dark Knight Rises\"\n",
    "printfn \"%A\" darkKnightVector"
   ]
  },
  {
   "cell_type": "markdown",
   "metadata": {},
   "source": [
    "## Cosine Distance"
   ]
  },
  {
   "cell_type": "code",
   "execution_count": 33,
   "metadata": {},
   "outputs": [
    {
     "data": {
      "text/plain": [
       "Cosine Distance when values are equal: 0.0\n",
       "Cosine Distance when values are different: 0.105572809\n"
      ]
     },
     "metadata": {},
     "output_type": "display_data"
    }
   ],
   "source": [
    "let x : double[] = [| 3.; 1. |]\n",
    "let y : double[] = [| 3.; 3. |]\n",
    "\n",
    "printfn \"Cosine Distance when values are equal: %A\" (Distance.Cosine(x, x))\n",
    "printfn \"Cosine Distance when values are different: %A\" (Distance.Cosine(x, y))"
   ]
  },
  {
   "cell_type": "code",
   "execution_count": 34,
   "metadata": {},
   "outputs": [],
   "source": [
    "let computeCosineDistance (movie1 : string) (movie2 : string)  = \n",
    "    let movie1Vector = getWordCountVector movie1\n",
    "    let movie2Vector = getWordCountVector movie2\n",
    "    match movie1Vector, movie2Vector with\n",
    "    | Some m1, Some m2 -> Distance.Cosine(m1, m2) \n",
    "    | None, Some _ -> failwith \"Movie 1 not found in the data.\"\n",
    "    | Some _, None -> failwith \"Movie 2 not found in the data.\"\n",
    "    | _ -> failwith \"Neither of the movies found in the data.\""
   ]
  },
  {
   "cell_type": "code",
   "execution_count": 36,
   "metadata": {},
   "outputs": [
    {
     "data": {
      "text/plain": [
       "0.966873067"
      ]
     },
     "execution_count": 36,
     "metadata": {},
     "output_type": "execute_result"
    }
   ],
   "source": [
    "computeCosineDistance \"Avatar\" \"The Dark Knight Rises\""
   ]
  },
  {
   "cell_type": "markdown",
   "metadata": {},
   "source": [
    "# Recommendations"
   ]
  },
  {
   "cell_type": "code",
   "execution_count": 44,
   "metadata": {},
   "outputs": [],
   "source": [
    "let recommendMovies (movie : string) (recommendationCount : int) =\n",
    "    if getDictOfData.ContainsKey movie then\n",
    "        let movieData = getDictOfData.[movie]\n",
    "        getDictOfData\n",
    "        |> Seq.filter( fun x -> not( x.Value = movieData )) // Don't include the current item in question.\n",
    "        |> Seq.map( fun x -> (x.Value.title, computeCosineDistance movie x.Value.title ))\n",
    "        |> Seq.sort\n",
    "        |> Seq.take (recommendationCount)\n",
    "    else\n",
    "        failwith \"Movie not found!\""
   ]
  },
  {
   "cell_type": "code",
   "execution_count": 45,
   "metadata": {},
   "outputs": [],
   "source": [
    "recommendMovies \"Avatar\" 10"
   ]
  }
 ],
 "metadata": {
  "kernelspec": {
   "display_name": "F#",
   "language": "fsharp",
   "name": "ifsharp"
  },
  "language": "fsharp",
  "language_info": {
   "codemirror_mode": "",
   "file_extension": ".fs",
   "mimetype": "text/x-fsharp",
   "name": "fsharp",
   "nbconvert_exporter": "",
   "pygments_lexer": "",
   "version": "4.3.1.0"
  }
 },
 "nbformat": 4,
 "nbformat_minor": 2
}
